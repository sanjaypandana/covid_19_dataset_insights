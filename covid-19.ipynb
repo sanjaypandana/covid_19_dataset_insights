{
 "cells": [
  {
   "cell_type": "markdown",
   "metadata": {},
   "source": [
    "# Extract Covid-19 data from website grainmart.in using BeautifulSoup"
   ]
  },
  {
   "cell_type": "code",
   "execution_count": 1,
   "metadata": {},
   "outputs": [],
   "source": [
    "# importing the libraries\n",
    "from bs4 import BeautifulSoup\n",
    "import requests\n",
    "import csv\n",
    "import pandas as pd"
   ]
  },
  {
   "cell_type": "code",
   "execution_count": 2,
   "metadata": {},
   "outputs": [],
   "source": [
    "covid_source_filename = \"/home/sanjay/campaign/dev_codes/jupyter_lab/covid_19_proj/dataset/covid_data_unformatted.csv\"\n",
    "covid_target_filename = \"/home/sanjay/campaign/dev_codes/jupyter_lab/covid_19_proj/dataset/covid_data.csv\"\n",
    "gsdp_source_filename = \"/home/sanjay/campaign/dev_codes/jupyter_lab/covid_19_proj/dataset/gsdp_state_wise_unformatted.csv\"\n",
    "gsdp_target_filename = \"/home/sanjay/campaign/dev_codes/jupyter_lab/covid_19_proj/dataset/gsdp_state_wise.csv\"\n",
    "unemployment_source_filename = \"/home/sanjay/campaign/dev_codes/jupyter_lab/covid_19_proj/dataset/unemployment_unformatted.csv\"\n",
    "unemployment_target_filename = '/home/sanjay/campaign/dev_codes/jupyter_lab/covid_19_proj/dataset/unemployment.csv'\n",
    "population_source_filename = \"/home/sanjay/campaign/dev_codes/jupyter_lab/covid_19_proj/dataset/population_unformatted.csv\"\n",
    "population_target_filename = \"/home/sanjay/campaign/dev_codes/jupyter_lab/covid_19_proj/dataset/population.csv\"\n",
    "covid_pop_uemp_gsdp_output_file_name = \"/home/sanjay/campaign/dev_codes/jupyter_lab/covid_19_proj/dataset/final_data_test_1.csv\""
   ]
  },
  {
   "cell_type": "code",
   "execution_count": 3,
   "metadata": {},
   "outputs": [],
   "source": [
    "url=\"https://www.grainmart.in/news/covid-19-coronavirus-india-state-and-district-wise-tally\"\n",
    "\n",
    "# Make a GET request to fetch the raw HTML content\n",
    "html_content = requests.get(url).text\n",
    "\n",
    "# Parse the html content\n",
    "#soup = BeautifulSoup(html_content, \"lxml\")\n",
    "soup = BeautifulSoup(html_content,\"html.parser\")\n",
    "# print(soup.prettify()) # print the parsed data of html"
   ]
  },
  {
   "cell_type": "code",
   "execution_count": 4,
   "metadata": {},
   "outputs": [],
   "source": [
    "section_data = soup.find(\"section\", {\"id\": \"covid-19-table\"})\n",
    "main_list = []"
   ]
  },
  {
   "cell_type": "code",
   "execution_count": 5,
   "metadata": {},
   "outputs": [],
   "source": [
    "states_rows = section_data.find_all(\"div\", {\"class\": \"skgm-states\"})"
   ]
  },
  {
   "cell_type": "code",
   "execution_count": 6,
   "metadata": {},
   "outputs": [],
   "source": [
    "def clean_up_soup(pre_content):\n",
    "    pre_content.select(\"div.td-ddd.td-ddr.td-ddc\")\n",
    "    for tags in pre_content.findAll(True): \n",
    "        tags.attrs = {}\n",
    "    return pre_content"
   ]
  },
  {
   "cell_type": "code",
   "execution_count": 7,
   "metadata": {},
   "outputs": [],
   "source": [
    "\n",
    "final_state_list = []\n",
    "fianle_district_list = []\n",
    "headers_list = [\n",
    "    'state_name',\n",
    "    'cases',\n",
    "    'cured',\n",
    "    'active',\n",
    "    'deaths',\n",
    "    'district_name',\n",
    "    'district_cases',\n",
    "    'district_cured',\n",
    "    'district_active',\n",
    "    'district_deaths'\n",
    "]\n",
    "for dat in states_rows:\n",
    "    state_list = []\n",
    "    state_name = dat.find_all(\"span\", {\"class\": \"show-district\"})[0].contents[-1]\n",
    "    cases = int(dat.find_all(\"div\", {\"class\": \"td-sc\"})[0].contents[0])\n",
    "    cured = int(dat.find_all(\"div\", {\"class\": \"td-sr\"})[0].contents[0])\n",
    "    active = int(dat.find_all(\"div\", {\"class\": \"td-sa\"})[0].contents[0])\n",
    "    deaths = int(dat.find_all(\"div\", {\"class\": \"td-sd\"})[0].contents[0])\n",
    "    state_list.append(state_name)\n",
    "    state_list.append(cases)\n",
    "    state_list.append(cured)\n",
    "    state_list.append(active)\n",
    "    state_list.append(deaths)\n",
    "    final_state_list.append(state_list)\n",
    "    inner_main = dat.find_all(\"div\", {\"class\": \"skgm-tr\"})\n",
    "    index = 0\n",
    "    for inner_list in inner_main:\n",
    "        if index == 0:\n",
    "            index = index + 1\n",
    "            continue\n",
    "        inner_list = clean_up_soup(inner_list)\n",
    "        childs = list(inner_list.children)\n",
    "        district_names = childs[0].contents[0]\n",
    "        district_cases = childs[1].contents[0].contents[0]\n",
    "        district_cured = childs[2].contents[0].contents[0]\n",
    "        district_active = childs[3].contents[0].contents[0]\n",
    "        district_deaths = childs[4].contents[0].contents[0]\n",
    "        each_district_list = [\n",
    "            state_name,\n",
    "            cases,\n",
    "            cured,\n",
    "            active,\n",
    "            deaths,\n",
    "            district_names,\n",
    "            district_cases,\n",
    "            district_cured,\n",
    "            district_active,\n",
    "            district_deaths\n",
    "        ]\n",
    "        fianle_district_list.append(each_district_list)\n",
    "    "
   ]
  },
  {
   "cell_type": "code",
   "execution_count": 8,
   "metadata": {},
   "outputs": [],
   "source": [
    "# writing to csv file  \n",
    "with open(covid_source_filename, 'w') as csvfile:  \n",
    "    # creating a csv writer object  \n",
    "    csvwriter = csv.writer(csvfile)  \n",
    "        \n",
    "    # writing the fields  \n",
    "    csvwriter.writerow(headers_list)  \n",
    "        \n",
    "    # writing the data rows  \n",
    "    csvwriter.writerows(fianle_district_list)"
   ]
  },
  {
   "cell_type": "markdown",
   "metadata": {},
   "source": [
    "# Transform GSDP dataset as per requirements using Pandas"
   ]
  },
  {
   "cell_type": "code",
   "execution_count": 33,
   "metadata": {},
   "outputs": [],
   "source": [
    "# reading csv file  \n",
    "gsdp_df = pd.read_csv(gsdp_source_filename)\n",
    "gsdp_df.rename(\n",
    "    columns={\n",
    "        'year':'gsdp_year'\n",
    "    },\n",
    "    inplace=True\n",
    ")"
   ]
  },
  {
   "cell_type": "code",
   "execution_count": 34,
   "metadata": {},
   "outputs": [],
   "source": [
    "gsdp_dataset = gsdp_df.melt(id_vars=[\"gsdp_year\"], var_name=\"gsdp_region\", value_name=\"gsdp_in_crores\")\n",
    "gsdp_dataset['gsdp_year'] = pd.to_datetime(gsdp_dataset['gsdp_year'].astype(str), format='%Y')\n",
    "gsdp_dataset['gsdp_year'] = pd.to_datetime(gsdp_dataset['gsdp_year']).dt.to_period('Y')"
   ]
  },
  {
   "cell_type": "code",
   "execution_count": 35,
   "metadata": {},
   "outputs": [],
   "source": [
    "gsdp_dataset= gsdp_dataset.applymap(lambda s:s.lower() if type(s) == str else s)"
   ]
  },
  {
   "cell_type": "code",
   "execution_count": 36,
   "metadata": {},
   "outputs": [],
   "source": [
    "gsdp_dataset.to_csv(gsdp_target_filename, sep=',', encoding='utf-8', index = False)"
   ]
  },
  {
   "cell_type": "markdown",
   "metadata": {},
   "source": [
    "# Unemployment dataset\n",
    "### source - unemploymentinindia.cmie.com"
   ]
  },
  {
   "cell_type": "code",
   "execution_count": 37,
   "metadata": {},
   "outputs": [],
   "source": [
    "# reading csv file  \n",
    "unemployment_df = pd.read_csv(unemployment_source_filename)\n",
    "unemployment_df= unemployment_df.applymap(lambda s:s.lower() if type(s) == str else s)"
   ]
  },
  {
   "cell_type": "code",
   "execution_count": 38,
   "metadata": {},
   "outputs": [],
   "source": [
    "unemployment_df.rename(\n",
    "    columns={\n",
    "        'Estimated Unemployment Rate (%)':'unemployment_rate',\n",
    "        'Region':'unemployment_region',\n",
    "        'Date': 'date',\n",
    "        'Estimated Employed': 'employed',\n",
    "        'Estimated Labour Participation Rate (%)': 'lbour_participation_rate'\n",
    "    },\n",
    "    inplace=True\n",
    ")"
   ]
  },
  {
   "cell_type": "code",
   "execution_count": 39,
   "metadata": {},
   "outputs": [],
   "source": [
    "unemployment_df['unemployment_year'] = pd.to_datetime(unemployment_df['date']).dt.to_period('Y')\n",
    "unemployment_grouped_df = unemployment_df.groupby(['unemployment_region', 'unemployment_year']).agg(\n",
    "    {'unemployment_rate': ['mean', 'min', 'max'],\n",
    "     'employed': ['mean', 'min', 'max'],\n",
    "     'lbour_participation_rate': ['mean', 'min', 'max']})"
   ]
  },
  {
   "cell_type": "code",
   "execution_count": 40,
   "metadata": {},
   "outputs": [],
   "source": [
    "unemployment_grouped_df.columns = [\"_\".join(x) for x in unemployment_grouped_df.columns.ravel()]"
   ]
  },
  {
   "cell_type": "code",
   "execution_count": 41,
   "metadata": {},
   "outputs": [],
   "source": [
    "unemployment_grouped_df['unemployment_rate_mean'] = unemployment_grouped_df['unemployment_rate_mean'].round(2) \n",
    "unemployment_grouped_df['employed_mean'] = unemployment_grouped_df['employed_mean'].astype(int)\n",
    "unemployment_grouped_df['lbour_participation_rate_mean'] = unemployment_grouped_df['lbour_participation_rate_mean'].round(2) "
   ]
  },
  {
   "cell_type": "code",
   "execution_count": 42,
   "metadata": {},
   "outputs": [],
   "source": [
    "unemployment_grouped_df.reset_index(inplace=True)\n",
    "unemployment_grouped_df.to_csv(unemployment_target_filename, sep=',', encoding='utf-8', index = False)"
   ]
  },
  {
   "cell_type": "markdown",
   "metadata": {},
   "source": [
    "# Population Dataset\n",
    "### Source - PDF - https://nhm.gov.in/New_Updates_2018/Report_Population_Projection_2019.pdf"
   ]
  },
  {
   "cell_type": "code",
   "execution_count": 85,
   "metadata": {},
   "outputs": [],
   "source": [
    "# reading csv file  \n",
    "population_df = pd.read_csv(population_source_filename)\n",
    "population_df.rename(\n",
    "    columns={\n",
    "        'Year':'population_year'\n",
    "    },\n",
    "    inplace=True\n",
    ")"
   ]
  },
  {
   "cell_type": "code",
   "execution_count": 86,
   "metadata": {},
   "outputs": [],
   "source": [
    "population_dataset = population_df.melt(\n",
    "    id_vars=[\"population_year\"], var_name=\"population_region\", value_name=\"population\"\n",
    ")\n",
    "population_dataset['population_year'] = pd.to_datetime(population_dataset['population_year'].astype(str), format='%Y')\n",
    "population_dataset['population_year'] = pd.to_datetime(population_dataset['population_year']).dt.to_period('Y')\n",
    "population_dataset= population_dataset.applymap(lambda s:s.lower() if type(s) == str else s)"
   ]
  },
  {
   "cell_type": "code",
   "execution_count": 87,
   "metadata": {},
   "outputs": [],
   "source": [
    "def modify_data(row, return_type='state_province_country'):\n",
    "    if return_type == 'population_type':\n",
    "        value = row['population_region']\n",
    "        if '.1' in value:\n",
    "            return 'male'\n",
    "        elif '.2' in value:\n",
    "            return 'female'\n",
    "        else:\n",
    "            return 'total'\n",
    "    if return_type == 'state_province_country':\n",
    "        value = row['population_region']\n",
    "        if '.1' in value:\n",
    "            return value.replace('.1', '')\n",
    "        elif '.2' in value:\n",
    "            return value.replace('.2', '')\n",
    "        else:\n",
    "            return value"
   ]
  },
  {
   "cell_type": "code",
   "execution_count": 88,
   "metadata": {},
   "outputs": [],
   "source": [
    "population_dataset['population_type'] = population_dataset.apply(\n",
    "    lambda row: modify_data(row, return_type=\"population_type\"), axis=1\n",
    ")"
   ]
  },
  {
   "cell_type": "code",
   "execution_count": 89,
   "metadata": {},
   "outputs": [],
   "source": [
    "population_dataset['population_region'] = population_dataset.apply(\n",
    "    lambda row: modify_data(row, return_type=\"state_province_country\"), axis=1\n",
    ")"
   ]
  },
  {
   "cell_type": "code",
   "execution_count": 90,
   "metadata": {},
   "outputs": [],
   "source": [
    "population_dataset.to_csv(population_target_filename, sep=',', encoding='utf-8', index = False)"
   ]
  },
  {
   "cell_type": "markdown",
   "metadata": {},
   "source": [
    "# Covid data "
   ]
  },
  {
   "cell_type": "code",
   "execution_count": 25,
   "metadata": {},
   "outputs": [],
   "source": [
    "covid_df = pd.read_csv(covid_source_filename)\n",
    "covid_df= covid_df.applymap(lambda s:s.lower() if type(s) == str else s)"
   ]
  },
  {
   "cell_type": "code",
   "execution_count": 26,
   "metadata": {},
   "outputs": [],
   "source": [
    "def calculate_new_rows(row, _type=\"IFR\", region='state'):\n",
    "    if _type == \"IFR\":\n",
    "        if region == 'state':\n",
    "            try:\n",
    "                return round(row['deaths']/row['active'] * 100, 2)\n",
    "            except ZeroDivisionError:\n",
    "                return 0\n",
    "        else:\n",
    "            try:\n",
    "                return round(row['district_deaths']/row['district_active'] * 100, 2)\n",
    "            except ZeroDivisionError:\n",
    "                return 0\n",
    "    elif _type == \"CFR\":\n",
    "        if region == 'state':\n",
    "            try:\n",
    "                return round(row['deaths']/row['cases'] * 100, 2)\n",
    "            except ZeroDivisionError:\n",
    "                return 0\n",
    "        else:\n",
    "            try:\n",
    "                return round(row['district_deaths']/row['district_cases'] * 100, 2)\n",
    "            except ZeroDivisionError:\n",
    "                return 0\n",
    "    elif _type == \"CFR_CURRENT\":\n",
    "        if region == 'state':\n",
    "            try:\n",
    "                return round(row['deaths']/(row['deaths'] + row['cured']) * 100, 2)\n",
    "            except ZeroDivisionError:\n",
    "                return 0\n",
    "        else:\n",
    "            try:\n",
    "                return round(row['district_deaths']/(row['district_deaths'] + row['district_cured']) * 100, 2)\n",
    "            except ZeroDivisionError:\n",
    "                return 0"
   ]
  },
  {
   "cell_type": "markdown",
   "metadata": {},
   "source": [
    "# IFR per state and district\n",
    "### Infection fatality ratio (IFR, in %) = Number of deaths from disease/Number of infected individuals x 100 \n"
   ]
  },
  {
   "cell_type": "code",
   "execution_count": 27,
   "metadata": {},
   "outputs": [],
   "source": [
    "covid_df['state_IFR'] = covid_df.apply(\n",
    "    lambda row: calculate_new_rows(row, _type=\"IFR\"), axis=1\n",
    ")\n",
    "covid_df['district_IFR'] = covid_df.apply(\n",
    "    lambda row: calculate_new_rows(row, _type=\"IFR\", region='district'), axis=1\n",
    ")"
   ]
  },
  {
   "cell_type": "markdown",
   "metadata": {},
   "source": [
    "# CFR per state and district\n",
    "## Case fatality ratio (IFR, in %) = Number of deaths from disease/Number of confirmed cases x 100"
   ]
  },
  {
   "cell_type": "code",
   "execution_count": 28,
   "metadata": {},
   "outputs": [],
   "source": [
    "covid_df['state_CFR'] = covid_df.apply(\n",
    "    lambda row: calculate_new_rows(row, _type=\"CFR\"), axis=1\n",
    ")\n",
    "covid_df['district_CFR'] = covid_df.apply(\n",
    "    lambda row: calculate_new_rows(row, _type=\"CFR\", region='district'), axis=1\n",
    ")"
   ]
  },
  {
   "cell_type": "markdown",
   "metadata": {},
   "source": [
    "## CFR per state and district during an ongoing epidemic\n",
    "## Infection fatality ratio (IFR, in %) = Number of deaths from disease/(Number of deaths from disease + Number of recovered cases) x 100"
   ]
  },
  {
   "cell_type": "code",
   "execution_count": 29,
   "metadata": {},
   "outputs": [],
   "source": [
    "covid_df['state_CFR_CURRENT'] = covid_df.apply(\n",
    "    lambda row: calculate_new_rows(row, _type=\"CFR_CURRENT\"), axis=1\n",
    ")\n",
    "covid_df['district_CFR_CURRENT'] = covid_df.apply(\n",
    "    lambda row: calculate_new_rows(row, _type=\"CFR_CURRENT\", region='district'), axis=1\n",
    ")"
   ]
  },
  {
   "cell_type": "code",
   "execution_count": 30,
   "metadata": {},
   "outputs": [],
   "source": [
    "covid_df.to_csv(covid_target_filename, sep=',', encoding='utf-8', index = False)"
   ]
  },
  {
   "cell_type": "markdown",
   "metadata": {},
   "source": [
    "# Transformation based on all source Dataset"
   ]
  },
  {
   "cell_type": "code",
   "execution_count": 124,
   "metadata": {},
   "outputs": [],
   "source": [
    "covid_df = pd.read_csv(covid_target_filename)\n",
    "population_df = pd.read_csv(population_target_filename)\n",
    "gsdp_df = pd.read_csv(gsdp_target_filename)\n",
    "unemployment_df = pd.read_csv(unemployment_target_filename)"
   ]
  },
  {
   "cell_type": "code",
   "execution_count": 92,
   "metadata": {},
   "outputs": [],
   "source": [
    "#covid_df"
   ]
  },
  {
   "cell_type": "code",
   "execution_count": 94,
   "metadata": {},
   "outputs": [],
   "source": [
    "#population_df"
   ]
  },
  {
   "cell_type": "code",
   "execution_count": 58,
   "metadata": {},
   "outputs": [],
   "source": [
    "#gsdp_df"
   ]
  },
  {
   "cell_type": "code",
   "execution_count": 57,
   "metadata": {},
   "outputs": [],
   "source": [
    "#unemployment_df.head(50)"
   ]
  },
  {
   "cell_type": "code",
   "execution_count": 125,
   "metadata": {},
   "outputs": [],
   "source": [
    "uemp_gsdp_df = gsdp_df.merge(\n",
    "    unemployment_df,how='inner',\n",
    "    left_on=['gsdp_year', 'gsdp_region'],\n",
    "    right_on=['unemployment_year', 'unemployment_region']\n",
    ").fillna(0).astype(\n",
    "    pd.concat([gsdp_df.dtypes,unemployment_df.dtypes])\n",
    ")"
   ]
  },
  {
   "cell_type": "code",
   "execution_count": 126,
   "metadata": {},
   "outputs": [],
   "source": [
    "#uemp_gsdp_df"
   ]
  },
  {
   "cell_type": "code",
   "execution_count": 127,
   "metadata": {},
   "outputs": [],
   "source": [
    "pop_uemp_gsdp_df = population_df.merge(\n",
    "    uemp_gsdp_df,how='inner', \n",
    "    left_on=['population_year', 'population_region'],\n",
    "    right_on=['gsdp_year', 'gsdp_region']\n",
    ").fillna(0).astype(\n",
    "    pd.concat([population_df.dtypes,uemp_gsdp_df.dtypes])\n",
    ")"
   ]
  },
  {
   "cell_type": "code",
   "execution_count": 119,
   "metadata": {},
   "outputs": [],
   "source": [
    "#pop_uemp_gsdp_df"
   ]
  },
  {
   "cell_type": "code",
   "execution_count": 128,
   "metadata": {},
   "outputs": [],
   "source": [
    "covid_pop_uemp_gsdp_df = covid_df.merge(\n",
    "    pop_uemp_gsdp_df,how='inner', left_on=['state_name'], right_on=['population_region']\n",
    ").fillna(0).astype(\n",
    "    pd.concat([covid_df.dtypes,pop_uemp_gsdp_df.dtypes])\n",
    ")"
   ]
  },
  {
   "cell_type": "code",
   "execution_count": 129,
   "metadata": {},
   "outputs": [],
   "source": [
    "#covid_pop_uemp_gsdp_df.head(60)"
   ]
  },
  {
   "cell_type": "code",
   "execution_count": 130,
   "metadata": {},
   "outputs": [],
   "source": [
    "covid_pop_uemp_gsdp_df.to_csv(\n",
    "    covid_pop_uemp_gsdp_output_file_name, sep=',', encoding='utf-8', index = False\n",
    ")"
   ]
  },
  {
   "cell_type": "code",
   "execution_count": 132,
   "metadata": {},
   "outputs": [
    {
     "data": {
      "text/html": [
       "<div>\n",
       "<style scoped>\n",
       "    .dataframe tbody tr th:only-of-type {\n",
       "        vertical-align: middle;\n",
       "    }\n",
       "\n",
       "    .dataframe tbody tr th {\n",
       "        vertical-align: top;\n",
       "    }\n",
       "\n",
       "    .dataframe thead th {\n",
       "        text-align: right;\n",
       "    }\n",
       "</style>\n",
       "<table border=\"1\" class=\"dataframe\">\n",
       "  <thead>\n",
       "    <tr style=\"text-align: right;\">\n",
       "      <th></th>\n",
       "      <th>state_name</th>\n",
       "      <th>cases</th>\n",
       "      <th>cured</th>\n",
       "      <th>active</th>\n",
       "      <th>deaths</th>\n",
       "      <th>district_name</th>\n",
       "      <th>district_cases</th>\n",
       "      <th>district_cured</th>\n",
       "      <th>district_active</th>\n",
       "      <th>district_deaths</th>\n",
       "      <th>...</th>\n",
       "      <th>unemployment_year</th>\n",
       "      <th>unemployment_rate_mean</th>\n",
       "      <th>unemployment_rate_min</th>\n",
       "      <th>unemployment_rate_max</th>\n",
       "      <th>employed_mean</th>\n",
       "      <th>employed_min</th>\n",
       "      <th>employed_max</th>\n",
       "      <th>lbour_participation_rate_mean</th>\n",
       "      <th>lbour_participation_rate_min</th>\n",
       "      <th>lbour_participation_rate_max</th>\n",
       "    </tr>\n",
       "  </thead>\n",
       "  <tbody>\n",
       "    <tr>\n",
       "      <td>0</td>\n",
       "      <td>maharashtra</td>\n",
       "      <td>967349</td>\n",
       "      <td>686462</td>\n",
       "      <td>252734</td>\n",
       "      <td>27787</td>\n",
       "      <td>pune</td>\n",
       "      <td>212563</td>\n",
       "      <td>142618</td>\n",
       "      <td>65361</td>\n",
       "      <td>4584</td>\n",
       "      <td>...</td>\n",
       "      <td>0</td>\n",
       "      <td>0.0</td>\n",
       "      <td>0.0</td>\n",
       "      <td>0.0</td>\n",
       "      <td>0</td>\n",
       "      <td>0</td>\n",
       "      <td>0</td>\n",
       "      <td>0.0</td>\n",
       "      <td>0.0</td>\n",
       "      <td>0.0</td>\n",
       "    </tr>\n",
       "    <tr>\n",
       "      <td>1</td>\n",
       "      <td>maharashtra</td>\n",
       "      <td>967349</td>\n",
       "      <td>686462</td>\n",
       "      <td>252734</td>\n",
       "      <td>27787</td>\n",
       "      <td>pune</td>\n",
       "      <td>212563</td>\n",
       "      <td>142618</td>\n",
       "      <td>65361</td>\n",
       "      <td>4584</td>\n",
       "      <td>...</td>\n",
       "      <td>0</td>\n",
       "      <td>0.0</td>\n",
       "      <td>0.0</td>\n",
       "      <td>0.0</td>\n",
       "      <td>0</td>\n",
       "      <td>0</td>\n",
       "      <td>0</td>\n",
       "      <td>0.0</td>\n",
       "      <td>0.0</td>\n",
       "      <td>0.0</td>\n",
       "    </tr>\n",
       "    <tr>\n",
       "      <td>2</td>\n",
       "      <td>maharashtra</td>\n",
       "      <td>967349</td>\n",
       "      <td>686462</td>\n",
       "      <td>252734</td>\n",
       "      <td>27787</td>\n",
       "      <td>pune</td>\n",
       "      <td>212563</td>\n",
       "      <td>142618</td>\n",
       "      <td>65361</td>\n",
       "      <td>4584</td>\n",
       "      <td>...</td>\n",
       "      <td>0</td>\n",
       "      <td>0.0</td>\n",
       "      <td>0.0</td>\n",
       "      <td>0.0</td>\n",
       "      <td>0</td>\n",
       "      <td>0</td>\n",
       "      <td>0</td>\n",
       "      <td>0.0</td>\n",
       "      <td>0.0</td>\n",
       "      <td>0.0</td>\n",
       "    </tr>\n",
       "    <tr>\n",
       "      <td>3</td>\n",
       "      <td>maharashtra</td>\n",
       "      <td>967349</td>\n",
       "      <td>686462</td>\n",
       "      <td>252734</td>\n",
       "      <td>27787</td>\n",
       "      <td>pune</td>\n",
       "      <td>212563</td>\n",
       "      <td>142618</td>\n",
       "      <td>65361</td>\n",
       "      <td>4584</td>\n",
       "      <td>...</td>\n",
       "      <td>0</td>\n",
       "      <td>0.0</td>\n",
       "      <td>0.0</td>\n",
       "      <td>0.0</td>\n",
       "      <td>0</td>\n",
       "      <td>0</td>\n",
       "      <td>0</td>\n",
       "      <td>0.0</td>\n",
       "      <td>0.0</td>\n",
       "      <td>0.0</td>\n",
       "    </tr>\n",
       "    <tr>\n",
       "      <td>4</td>\n",
       "      <td>maharashtra</td>\n",
       "      <td>967349</td>\n",
       "      <td>686462</td>\n",
       "      <td>252734</td>\n",
       "      <td>27787</td>\n",
       "      <td>pune</td>\n",
       "      <td>212563</td>\n",
       "      <td>142618</td>\n",
       "      <td>65361</td>\n",
       "      <td>4584</td>\n",
       "      <td>...</td>\n",
       "      <td>0</td>\n",
       "      <td>0.0</td>\n",
       "      <td>0.0</td>\n",
       "      <td>0.0</td>\n",
       "      <td>0</td>\n",
       "      <td>0</td>\n",
       "      <td>0</td>\n",
       "      <td>0.0</td>\n",
       "      <td>0.0</td>\n",
       "      <td>0.0</td>\n",
       "    </tr>\n",
       "    <tr>\n",
       "      <td>...</td>\n",
       "      <td>...</td>\n",
       "      <td>...</td>\n",
       "      <td>...</td>\n",
       "      <td>...</td>\n",
       "      <td>...</td>\n",
       "      <td>...</td>\n",
       "      <td>...</td>\n",
       "      <td>...</td>\n",
       "      <td>...</td>\n",
       "      <td>...</td>\n",
       "      <td>...</td>\n",
       "      <td>...</td>\n",
       "      <td>...</td>\n",
       "      <td>...</td>\n",
       "      <td>...</td>\n",
       "      <td>...</td>\n",
       "      <td>...</td>\n",
       "      <td>...</td>\n",
       "      <td>...</td>\n",
       "      <td>...</td>\n",
       "      <td>...</td>\n",
       "    </tr>\n",
       "    <tr>\n",
       "      <td>25277</td>\n",
       "      <td>mizoram</td>\n",
       "      <td>1333</td>\n",
       "      <td>750</td>\n",
       "      <td>583</td>\n",
       "      <td>0</td>\n",
       "      <td>hnahthial</td>\n",
       "      <td>2</td>\n",
       "      <td>0</td>\n",
       "      <td>2</td>\n",
       "      <td>0</td>\n",
       "      <td>...</td>\n",
       "      <td>0</td>\n",
       "      <td>0.0</td>\n",
       "      <td>0.0</td>\n",
       "      <td>0.0</td>\n",
       "      <td>0</td>\n",
       "      <td>0</td>\n",
       "      <td>0</td>\n",
       "      <td>0.0</td>\n",
       "      <td>0.0</td>\n",
       "      <td>0.0</td>\n",
       "    </tr>\n",
       "    <tr>\n",
       "      <td>25278</td>\n",
       "      <td>mizoram</td>\n",
       "      <td>1333</td>\n",
       "      <td>750</td>\n",
       "      <td>583</td>\n",
       "      <td>0</td>\n",
       "      <td>hnahthial</td>\n",
       "      <td>2</td>\n",
       "      <td>0</td>\n",
       "      <td>2</td>\n",
       "      <td>0</td>\n",
       "      <td>...</td>\n",
       "      <td>0</td>\n",
       "      <td>0.0</td>\n",
       "      <td>0.0</td>\n",
       "      <td>0.0</td>\n",
       "      <td>0</td>\n",
       "      <td>0</td>\n",
       "      <td>0</td>\n",
       "      <td>0.0</td>\n",
       "      <td>0.0</td>\n",
       "      <td>0.0</td>\n",
       "    </tr>\n",
       "    <tr>\n",
       "      <td>25279</td>\n",
       "      <td>mizoram</td>\n",
       "      <td>1333</td>\n",
       "      <td>750</td>\n",
       "      <td>583</td>\n",
       "      <td>0</td>\n",
       "      <td>hnahthial</td>\n",
       "      <td>2</td>\n",
       "      <td>0</td>\n",
       "      <td>2</td>\n",
       "      <td>0</td>\n",
       "      <td>...</td>\n",
       "      <td>0</td>\n",
       "      <td>0.0</td>\n",
       "      <td>0.0</td>\n",
       "      <td>0.0</td>\n",
       "      <td>0</td>\n",
       "      <td>0</td>\n",
       "      <td>0</td>\n",
       "      <td>0.0</td>\n",
       "      <td>0.0</td>\n",
       "      <td>0.0</td>\n",
       "    </tr>\n",
       "    <tr>\n",
       "      <td>25280</td>\n",
       "      <td>mizoram</td>\n",
       "      <td>1333</td>\n",
       "      <td>750</td>\n",
       "      <td>583</td>\n",
       "      <td>0</td>\n",
       "      <td>hnahthial</td>\n",
       "      <td>2</td>\n",
       "      <td>0</td>\n",
       "      <td>2</td>\n",
       "      <td>0</td>\n",
       "      <td>...</td>\n",
       "      <td>0</td>\n",
       "      <td>0.0</td>\n",
       "      <td>0.0</td>\n",
       "      <td>0.0</td>\n",
       "      <td>0</td>\n",
       "      <td>0</td>\n",
       "      <td>0</td>\n",
       "      <td>0.0</td>\n",
       "      <td>0.0</td>\n",
       "      <td>0.0</td>\n",
       "    </tr>\n",
       "    <tr>\n",
       "      <td>25281</td>\n",
       "      <td>mizoram</td>\n",
       "      <td>1333</td>\n",
       "      <td>750</td>\n",
       "      <td>583</td>\n",
       "      <td>0</td>\n",
       "      <td>hnahthial</td>\n",
       "      <td>2</td>\n",
       "      <td>0</td>\n",
       "      <td>2</td>\n",
       "      <td>0</td>\n",
       "      <td>...</td>\n",
       "      <td>0</td>\n",
       "      <td>0.0</td>\n",
       "      <td>0.0</td>\n",
       "      <td>0.0</td>\n",
       "      <td>0</td>\n",
       "      <td>0</td>\n",
       "      <td>0</td>\n",
       "      <td>0.0</td>\n",
       "      <td>0.0</td>\n",
       "      <td>0.0</td>\n",
       "    </tr>\n",
       "  </tbody>\n",
       "</table>\n",
       "<p>25282 rows × 34 columns</p>\n",
       "</div>"
      ],
      "text/plain": [
       "        state_name   cases   cured  active  deaths district_name  \\\n",
       "0      maharashtra  967349  686462  252734   27787          pune   \n",
       "1      maharashtra  967349  686462  252734   27787          pune   \n",
       "2      maharashtra  967349  686462  252734   27787          pune   \n",
       "3      maharashtra  967349  686462  252734   27787          pune   \n",
       "4      maharashtra  967349  686462  252734   27787          pune   \n",
       "...            ...     ...     ...     ...     ...           ...   \n",
       "25277      mizoram    1333     750     583       0     hnahthial   \n",
       "25278      mizoram    1333     750     583       0     hnahthial   \n",
       "25279      mizoram    1333     750     583       0     hnahthial   \n",
       "25280      mizoram    1333     750     583       0     hnahthial   \n",
       "25281      mizoram    1333     750     583       0     hnahthial   \n",
       "\n",
       "       district_cases  district_cured  district_active  district_deaths  ...  \\\n",
       "0              212563          142618            65361             4584  ...   \n",
       "1              212563          142618            65361             4584  ...   \n",
       "2              212563          142618            65361             4584  ...   \n",
       "3              212563          142618            65361             4584  ...   \n",
       "4              212563          142618            65361             4584  ...   \n",
       "...               ...             ...              ...              ...  ...   \n",
       "25277               2               0                2                0  ...   \n",
       "25278               2               0                2                0  ...   \n",
       "25279               2               0                2                0  ...   \n",
       "25280               2               0                2                0  ...   \n",
       "25281               2               0                2                0  ...   \n",
       "\n",
       "       unemployment_year  unemployment_rate_mean  unemployment_rate_min  \\\n",
       "0                      0                     0.0                    0.0   \n",
       "1                      0                     0.0                    0.0   \n",
       "2                      0                     0.0                    0.0   \n",
       "3                      0                     0.0                    0.0   \n",
       "4                      0                     0.0                    0.0   \n",
       "...                  ...                     ...                    ...   \n",
       "25277                  0                     0.0                    0.0   \n",
       "25278                  0                     0.0                    0.0   \n",
       "25279                  0                     0.0                    0.0   \n",
       "25280                  0                     0.0                    0.0   \n",
       "25281                  0                     0.0                    0.0   \n",
       "\n",
       "       unemployment_rate_max  employed_mean  employed_min  employed_max  \\\n",
       "0                        0.0              0             0             0   \n",
       "1                        0.0              0             0             0   \n",
       "2                        0.0              0             0             0   \n",
       "3                        0.0              0             0             0   \n",
       "4                        0.0              0             0             0   \n",
       "...                      ...            ...           ...           ...   \n",
       "25277                    0.0              0             0             0   \n",
       "25278                    0.0              0             0             0   \n",
       "25279                    0.0              0             0             0   \n",
       "25280                    0.0              0             0             0   \n",
       "25281                    0.0              0             0             0   \n",
       "\n",
       "      lbour_participation_rate_mean lbour_participation_rate_min  \\\n",
       "0                               0.0                          0.0   \n",
       "1                               0.0                          0.0   \n",
       "2                               0.0                          0.0   \n",
       "3                               0.0                          0.0   \n",
       "4                               0.0                          0.0   \n",
       "...                             ...                          ...   \n",
       "25277                           0.0                          0.0   \n",
       "25278                           0.0                          0.0   \n",
       "25279                           0.0                          0.0   \n",
       "25280                           0.0                          0.0   \n",
       "25281                           0.0                          0.0   \n",
       "\n",
       "      lbour_participation_rate_max  \n",
       "0                              0.0  \n",
       "1                              0.0  \n",
       "2                              0.0  \n",
       "3                              0.0  \n",
       "4                              0.0  \n",
       "...                            ...  \n",
       "25277                          0.0  \n",
       "25278                          0.0  \n",
       "25279                          0.0  \n",
       "25280                          0.0  \n",
       "25281                          0.0  \n",
       "\n",
       "[25282 rows x 34 columns]"
      ]
     },
     "execution_count": 132,
     "metadata": {},
     "output_type": "execute_result"
    }
   ],
   "source": [
    "covid_pop_uemp_gsdp_df"
   ]
  },
  {
   "cell_type": "code",
   "execution_count": null,
   "metadata": {},
   "outputs": [],
   "source": []
  }
 ],
 "metadata": {
  "kernelspec": {
   "display_name": "Python 3",
   "language": "python",
   "name": "python3"
  },
  "language_info": {
   "codemirror_mode": {
    "name": "ipython",
    "version": 3
   },
   "file_extension": ".py",
   "mimetype": "text/x-python",
   "name": "python",
   "nbconvert_exporter": "python",
   "pygments_lexer": "ipython3",
   "version": "3.6.8"
  }
 },
 "nbformat": 4,
 "nbformat_minor": 4
}
